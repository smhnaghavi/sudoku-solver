{
 "cells": [
  {
   "cell_type": "code",
   "execution_count": null,
   "id": "normal-killer",
   "metadata": {},
   "outputs": [],
   "source": [
    "grid = [[5,3,0,0,7,0,0,0,0],\n",
    "    [6,0,0,1,9,5,0,0,0],\n",
    "    [0,9,8,0,0,0,0,6,0],\n",
    "    [8,0,0,0,6,0,0,0,3],\n",
    "    [4,0,0,0,0,0,0,0,1],\n",
    "    [7,0,0,0,0,0,0,0,0],\n",
    "    [0,6,0,0,0,0,2,8,0],\n",
    "    [0,0,0,4,1,9,0,0,0],      \n",
    "    [0,0,0,0,8,0,0,0,0]]       "
   ]
  },
  {
   "cell_type": "markdown",
   "id": "parliamentary-miami",
   "metadata": {},
   "source": [
    "## Let's print it"
   ]
  },
  {
   "cell_type": "code",
   "execution_count": null,
   "id": "exact-store",
   "metadata": {},
   "outputs": [],
   "source": [
    "print(grid)"
   ]
  },
  {
   "cell_type": "code",
   "execution_count": null,
   "id": "peripheral-andorra",
   "metadata": {},
   "outputs": [],
   "source": [
    "import numpy as np\n",
    "print(np.matrix(grid))"
   ]
  },
  {
   "cell_type": "markdown",
   "id": "reasonable-parliament",
   "metadata": {},
   "source": [
    "## Lets make it pretty as sudoku is"
   ]
  },
  {
   "cell_type": "code",
   "execution_count": null,
   "id": "eight-arrangement",
   "metadata": {},
   "outputs": [],
   "source": [
    "def prettify():\n",
    "    print(\"Output: \")\n",
    "    global grid\n",
    "    j = 0\n",
    "    for row in grid:\n",
    "        i = 0\n",
    "        j+=1\n",
    "        for item in row:\n",
    "            i+=1\n",
    "            print(f\" {item} \", end='')\n",
    "            if i % 3 == 0 and i <9:\n",
    "                print (\" | \", end='')\n",
    "        print()\n",
    "        if j % 3 ==0 and j <9:    \n",
    "            print('-'*33)\n",
    "\n",
    "prettify()"
   ]
  },
  {
   "cell_type": "markdown",
   "id": "vulnerable-collection",
   "metadata": {},
   "source": [
    "## We need to solve it\n",
    "Lets solve iven sudoku in a recursive way, fun part is here :)"
   ]
  },
  {
   "cell_type": "code",
   "execution_count": null,
   "id": "covered-public",
   "metadata": {},
   "outputs": [],
   "source": [
    "def possible(y,x,n):\n",
    "    global grid\n",
    "    for i in range(9):\n",
    "        if grid[y][i] == n:\n",
    "            return False\n",
    "    for i in range(9):\n",
    "        if grid[i][x] == n:\n",
    "            return False\n",
    "    x0 = (x//3)*3\n",
    "    y0 = (y//3)*3\n",
    "    \n",
    "    for i in range(3):\n",
    "        for j in range(3):\n",
    "            if grid[y0+i][x0+j] == n:\n",
    "                return False\n",
    "    return True"
   ]
  },
  {
   "cell_type": "code",
   "execution_count": null,
   "id": "transparent-lounge",
   "metadata": {},
   "outputs": [],
   "source": [
    "possible(0,2,1)"
   ]
  },
  {
   "cell_type": "code",
   "execution_count": null,
   "id": "dressed-booth",
   "metadata": {},
   "outputs": [],
   "source": [
    "def solve():\n",
    "    global grid\n",
    "    for y in range(9):\n",
    "        for x in range(9):\n",
    "            if grid[y][x] == 0:\n",
    "                for n in range(1,10):\n",
    "                    if possible(y,x,n):\n",
    "                        grid[y][x] = n\n",
    "                        solve()\n",
    "                        grid[y][x] = 0\n",
    "                return\n",
    "    prettify()\n",
    "    input(\"More?\")"
   ]
  },
  {
   "cell_type": "code",
   "execution_count": null,
   "id": "laden-french",
   "metadata": {},
   "outputs": [],
   "source": [
    "solve()"
   ]
  }
 ],
 "metadata": {
  "kernelspec": {
   "display_name": "Python 3",
   "language": "python",
   "name": "python3"
  },
  "language_info": {
   "codemirror_mode": {
    "name": "ipython",
    "version": 3
   },
   "file_extension": ".py",
   "mimetype": "text/x-python",
   "name": "python",
   "nbconvert_exporter": "python",
   "pygments_lexer": "ipython3",
   "version": "3.6.9"
  }
 },
 "nbformat": 4,
 "nbformat_minor": 5
}
